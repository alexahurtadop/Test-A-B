{
 "cells": [
  {
   "cell_type": "markdown",
   "id": "9f096bf6",
   "metadata": {},
   "source": [
    "Hola &#x1F600;\n",
    "\n",
    "Soy **Hesus Garcia**  como \"Jesús\" pero con H. Sé que puede ser confuso al principio, pero una vez que lo recuerdes, ¡nunca lo olvidarás! &#x1F31D;\t. Como revisor de código de Triple-Ten, estoy emocionado de examinar tus proyectos y ayudarte a mejorar tus habilidades en programación. si has cometido algún error, no te preocupes, pues ¡estoy aquí para ayudarte a corregirlo y hacer que tu código brille! &#x1F31F;. Si encuentro algún detalle en tu código, te lo señalaré para que lo corrijas, ya que mi objetivo es ayudarte a prepararte para un ambiente de trabajo real, donde el líder de tu equipo actuaría de la misma manera. Si no puedes solucionar el problema, te proporcionaré más información en la próxima oportunidad. Cuando encuentres un comentario,  **por favor, no los muevas, no los modifiques ni los borres**. \n",
    "\n",
    "Revisaré cuidadosamente todas las implementaciones que has realizado para cumplir con los requisitos y te proporcionaré mis comentarios de la siguiente manera:\n",
    "\n",
    "\n",
    "<div class=\"alert alert-block alert-success\">\n",
    "<b>Comentario del revisor</b> <a class=“tocSkip”></a>\n",
    "Si todo está perfecto.\n",
    "</div>\n",
    "\n",
    "<div class=\"alert alert-block alert-warning\">\n",
    "<b>Comentario del revisor</b> <a class=“tocSkip”></a>\n",
    "Si tu código está bien pero se puede mejorar o hay algún detalle que le hace falta.\n",
    "</div>\n",
    "\n",
    "<div class=\"alert alert-block alert-danger\">\n",
    "<b>Comentario del revisor</b> <a class=“tocSkip”></a>\n",
    "Si de pronto hace falta algo o existe algún problema con tu código o conclusiones.\n",
    "</div>\n",
    "\n",
    "Puedes responderme de esta forma:\n",
    "<div class=\"alert alert-block alert-info\">\n",
    "<b>Respuesta del estudiante</b> <a class=“tocSkip”></a>\n",
    "</div>\n",
    "\n",
    "</br>\n",
    "\n",
    "**¡Empecemos!**  &#x1F680;"
   ]
  },
  {
   "cell_type": "markdown",
   "id": "cb983410",
   "metadata": {},
   "source": [
    "# Tabla de Contenidos\n",
    "\n",
    "* [Introducción](#intro)\n",
    "* [1. Información general](#info)\n",
    "    * [1.1 Preparar los datos](#preparar)\n",
    "* [2. Análisis Exploratorio de datos](#analisis)  \n",
    "* [3. Análisis de la prueba A/B](#resultado)\n",
    "* [4. Conclusiones](#conclusiones)"
   ]
  },
  {
   "cell_type": "markdown",
   "id": "92baf141",
   "metadata": {},
   "source": [
    "<div class=\"alert alert-block alert-success\">\n",
    "<b>Comentario del revisor</b> <a class=“tocSkip”></a>\n",
    "Me parece genial que hayas incluido una tabla de contenidos en tu documento, esto facilitará la navegación y comprensión de los temas que estás tratando. ¡Sigue así!</div>\n",
    "</div>\n"
   ]
  },
  {
   "cell_type": "markdown",
   "id": "70c819bc",
   "metadata": {},
   "source": [
    "<a id='intro'></a>\n",
    "# Introducción"
   ]
  },
  {
   "cell_type": "markdown",
   "id": "416f9647",
   "metadata": {},
   "source": [
    "<a id='info'></a>\n",
    "## Información general"
   ]
  },
  {
   "cell_type": "markdown",
   "id": "d0e7f1ad",
   "metadata": {},
   "source": [
    "Analizaremos una tienda en línea internacional donde se realizo una prueba A/B, los resultados de las pruebas están disponibles y las especificaciones técnicas, la interpretación de estos datos son importantes para comprender el impacto de los cambios introducidos en el sistema de recomendaciones.\n",
    "\n",
    "**Descripción técnica**\n",
    "\n",
    "- Nombre de la prueba: `recommender_system_test`\n",
    "- Grupos: А (control), B (nuevo embudo de pago)\n",
    "- Launch date: 2020-12-07\n",
    "- Fecha en la que dejaron de aceptar nuevos usuarios: 2020-12-21\n",
    "- Fecha de finalización: 2021-01-01\n",
    "- Audiencia: 15% de los nuevos usuarios de la región de la UE\n",
    "- Propósito de la prueba: probar cambios relacionados con la introducción de un sistema de recomendaciones mejorado\n",
    "- Resultado esperado: dentro de los 14 días posteriores a la inscripción, los usuarios mostrarán una mejor conversión en vistas de la página del producto (el evento `product_page`), instancias de agregar artículos al carrito de compras (`product_card`) y compras (`purchase`). En cada etapa del embudo `product_page → product_card → purchase`, habrá al menos un 10% de aumento.\n",
    "- Número previsto de participantes de la prueba: 6 000"
   ]
  },
  {
   "cell_type": "markdown",
   "id": "859a7dec",
   "metadata": {},
   "source": [
    "Tenemos cuatro datasets para desarrollar el proyecto que contiene la siguiente información:"
   ]
  },
  {
   "cell_type": "markdown",
   "id": "5d3de957",
   "metadata": {},
   "source": [
    "`ab_project_marketing_events_us.csv`: Calendario de eventos de marketing para 2020\n",
    "\n",
    "- `name`: el nombre del evento de marketing\n",
    "- `regions`: regiones donde se llevará a cabo la campaña publicitaria\n",
    "- `start_dt`: fecha de inicio de la campaña\n",
    "- `finish_dt`: fecha de finalización de la campaña"
   ]
  },
  {
   "cell_type": "markdown",
   "id": "1c1e5e45",
   "metadata": {},
   "source": [
    "`final_ab_new_users_upd_us.csv`: Todos los usuarios que se registraron en la tienda en línea desde el 7 hasta el 21 de diciembre de 2020\n",
    "\n",
    "- `user_id`\n",
    "- `first_date`: fecha de inscripción\n",
    "- `region`\n",
    "- `device`: dispositivo utilizado para la inscripción"
   ]
  },
  {
   "cell_type": "markdown",
   "id": "e2114a94",
   "metadata": {},
   "source": [
    "`final_ab_events_upd_us.csv`: Todos los eventos de los nuevos usuarios en el período comprendido entre el 7 de diciembre de 2020 y el 1 de enero de 2021\n",
    "\n",
    "- `user_id`\n",
    "- `event_dt`: fecha y hora del evento\n",
    "- `event_name`: nombre del tipo de evento\n",
    "- `details`: datos adicionales sobre el evento (por ejemplo, el pedido total en USD) para los eventos purchase"
   ]
  },
  {
   "cell_type": "markdown",
   "id": "556abce9",
   "metadata": {},
   "source": [
    "`final_ab_participants_upd_us.csv`: Tabla con los datos de los participantes de la prueba\n",
    "\n",
    "- `user_id`\n",
    "- `ab_test`: nombre de la prueba\n",
    "- `group`: el grupo de prueba al que pertenecía el usuario"
   ]
  },
  {
   "cell_type": "markdown",
   "id": "9e420247",
   "metadata": {},
   "source": [
    "<a id='preparar'></a>\n",
    "### Preparar los datos"
   ]
  },
  {
   "cell_type": "markdown",
   "id": "dcc1047b",
   "metadata": {},
   "source": [
    "Importemos las librerias que vamos a utilizar durante el desarrollo del análisis"
   ]
  },
  {
   "cell_type": "code",
   "execution_count": 3,
   "id": "104467d2",
   "metadata": {},
   "outputs": [],
   "source": [
    "import pandas as pd\n",
    "import plotly.express as px\n",
    "import plotly.graph_objects as go\n",
    "import numpy as np\n",
    "import math as mth\n",
    "import scipy.stats as stats\n",
    "from plotly.subplots import make_subplots\n",
    "from datetime import timedelta"
   ]
  },
  {
   "cell_type": "markdown",
   "id": "de5304cd",
   "metadata": {},
   "source": [
    "<div class=\"alert alert-block alert-warning\">\n",
    "<b>Comentario del revisor</b> <a class=“tocSkip”></a>\n",
    "Quería proporcionarte algunos comentarios sobre la organización de los imports en tu código.     \n",
    "Es preferible agrupar los imports siguiendo el siguiente orden:\n",
    "\n",
    "Imports de la biblioteca estándar de Python.<br>\n",
    "Imports de bibliotecas de terceros relacionadas.<br>\n",
    "Imports específicos de la aplicación local o biblioteca personalizada.<br>\n",
    "Para mejorar la legibilidad del código, también es recomendable dejar una línea en blanco entre cada grupo de imports, pero solo un import por línea.<br>\n",
    "Te dejo esta referencia con ejemplos:  \n",
    "https://pep8.org/#imports\n",
    "\n",
    "</div>"
   ]
  },
  {
   "cell_type": "code",
   "execution_count": 4,
   "id": "fa7f16b4",
   "metadata": {},
   "outputs": [
    {
     "ename": "FileNotFoundError",
     "evalue": "[Errno 2] No such file or directory: 'ab_project_marketing_events_us.csv'",
     "output_type": "error",
     "traceback": [
      "\u001b[0;31m---------------------------------------------------------------------------\u001b[0m",
      "\u001b[0;31mFileNotFoundError\u001b[0m                         Traceback (most recent call last)",
      "\u001b[0;32m/tmp/ipykernel_59/1642245905.py\u001b[0m in \u001b[0;36m<module>\u001b[0;34m\u001b[0m\n\u001b[1;32m      1\u001b[0m \u001b[0;31m## cargue de los datasets\u001b[0m\u001b[0;34m\u001b[0m\u001b[0;34m\u001b[0m\u001b[0;34m\u001b[0m\u001b[0m\n\u001b[1;32m      2\u001b[0m \u001b[0;34m\u001b[0m\u001b[0m\n\u001b[0;32m----> 3\u001b[0;31m \u001b[0mmarketing\u001b[0m \u001b[0;34m=\u001b[0m \u001b[0mpd\u001b[0m\u001b[0;34m.\u001b[0m\u001b[0mread_csv\u001b[0m\u001b[0;34m(\u001b[0m\u001b[0;34m\"ab_project_marketing_events_us.csv\"\u001b[0m\u001b[0;34m)\u001b[0m\u001b[0;34m\u001b[0m\u001b[0;34m\u001b[0m\u001b[0m\n\u001b[0m\u001b[1;32m      4\u001b[0m \u001b[0mparticipants\u001b[0m \u001b[0;34m=\u001b[0m \u001b[0mpd\u001b[0m\u001b[0;34m.\u001b[0m\u001b[0mread_csv\u001b[0m\u001b[0;34m(\u001b[0m\u001b[0;34m\"final_ab_participants_upd_us.csv\"\u001b[0m\u001b[0;34m)\u001b[0m\u001b[0;34m\u001b[0m\u001b[0;34m\u001b[0m\u001b[0m\n\u001b[1;32m      5\u001b[0m \u001b[0minscriptions\u001b[0m \u001b[0;34m=\u001b[0m \u001b[0mpd\u001b[0m\u001b[0;34m.\u001b[0m\u001b[0mread_csv\u001b[0m\u001b[0;34m(\u001b[0m\u001b[0;34m\"final_ab_new_users_upd_us.csv\"\u001b[0m\u001b[0;34m)\u001b[0m\u001b[0;34m\u001b[0m\u001b[0;34m\u001b[0m\u001b[0m\n",
      "\u001b[0;32m/opt/conda/lib/python3.9/site-packages/pandas/io/parsers.py\u001b[0m in \u001b[0;36mread_csv\u001b[0;34m(filepath_or_buffer, sep, delimiter, header, names, index_col, usecols, squeeze, prefix, mangle_dupe_cols, dtype, engine, converters, true_values, false_values, skipinitialspace, skiprows, skipfooter, nrows, na_values, keep_default_na, na_filter, verbose, skip_blank_lines, parse_dates, infer_datetime_format, keep_date_col, date_parser, dayfirst, cache_dates, iterator, chunksize, compression, thousands, decimal, lineterminator, quotechar, quoting, doublequote, escapechar, comment, encoding, dialect, error_bad_lines, warn_bad_lines, delim_whitespace, low_memory, memory_map, float_precision, storage_options)\u001b[0m\n\u001b[1;32m    608\u001b[0m     \u001b[0mkwds\u001b[0m\u001b[0;34m.\u001b[0m\u001b[0mupdate\u001b[0m\u001b[0;34m(\u001b[0m\u001b[0mkwds_defaults\u001b[0m\u001b[0;34m)\u001b[0m\u001b[0;34m\u001b[0m\u001b[0;34m\u001b[0m\u001b[0m\n\u001b[1;32m    609\u001b[0m \u001b[0;34m\u001b[0m\u001b[0m\n\u001b[0;32m--> 610\u001b[0;31m     \u001b[0;32mreturn\u001b[0m \u001b[0m_read\u001b[0m\u001b[0;34m(\u001b[0m\u001b[0mfilepath_or_buffer\u001b[0m\u001b[0;34m,\u001b[0m \u001b[0mkwds\u001b[0m\u001b[0;34m)\u001b[0m\u001b[0;34m\u001b[0m\u001b[0;34m\u001b[0m\u001b[0m\n\u001b[0m\u001b[1;32m    611\u001b[0m \u001b[0;34m\u001b[0m\u001b[0m\n\u001b[1;32m    612\u001b[0m \u001b[0;34m\u001b[0m\u001b[0m\n",
      "\u001b[0;32m/opt/conda/lib/python3.9/site-packages/pandas/io/parsers.py\u001b[0m in \u001b[0;36m_read\u001b[0;34m(filepath_or_buffer, kwds)\u001b[0m\n\u001b[1;32m    460\u001b[0m \u001b[0;34m\u001b[0m\u001b[0m\n\u001b[1;32m    461\u001b[0m     \u001b[0;31m# Create the parser.\u001b[0m\u001b[0;34m\u001b[0m\u001b[0;34m\u001b[0m\u001b[0;34m\u001b[0m\u001b[0m\n\u001b[0;32m--> 462\u001b[0;31m     \u001b[0mparser\u001b[0m \u001b[0;34m=\u001b[0m \u001b[0mTextFileReader\u001b[0m\u001b[0;34m(\u001b[0m\u001b[0mfilepath_or_buffer\u001b[0m\u001b[0;34m,\u001b[0m \u001b[0;34m**\u001b[0m\u001b[0mkwds\u001b[0m\u001b[0;34m)\u001b[0m\u001b[0;34m\u001b[0m\u001b[0;34m\u001b[0m\u001b[0m\n\u001b[0m\u001b[1;32m    463\u001b[0m \u001b[0;34m\u001b[0m\u001b[0m\n\u001b[1;32m    464\u001b[0m     \u001b[0;32mif\u001b[0m \u001b[0mchunksize\u001b[0m \u001b[0;32mor\u001b[0m \u001b[0miterator\u001b[0m\u001b[0;34m:\u001b[0m\u001b[0;34m\u001b[0m\u001b[0;34m\u001b[0m\u001b[0m\n",
      "\u001b[0;32m/opt/conda/lib/python3.9/site-packages/pandas/io/parsers.py\u001b[0m in \u001b[0;36m__init__\u001b[0;34m(self, f, engine, **kwds)\u001b[0m\n\u001b[1;32m    817\u001b[0m             \u001b[0mself\u001b[0m\u001b[0;34m.\u001b[0m\u001b[0moptions\u001b[0m\u001b[0;34m[\u001b[0m\u001b[0;34m\"has_index_names\"\u001b[0m\u001b[0;34m]\u001b[0m \u001b[0;34m=\u001b[0m \u001b[0mkwds\u001b[0m\u001b[0;34m[\u001b[0m\u001b[0;34m\"has_index_names\"\u001b[0m\u001b[0;34m]\u001b[0m\u001b[0;34m\u001b[0m\u001b[0;34m\u001b[0m\u001b[0m\n\u001b[1;32m    818\u001b[0m \u001b[0;34m\u001b[0m\u001b[0m\n\u001b[0;32m--> 819\u001b[0;31m         \u001b[0mself\u001b[0m\u001b[0;34m.\u001b[0m\u001b[0m_engine\u001b[0m \u001b[0;34m=\u001b[0m \u001b[0mself\u001b[0m\u001b[0;34m.\u001b[0m\u001b[0m_make_engine\u001b[0m\u001b[0;34m(\u001b[0m\u001b[0mself\u001b[0m\u001b[0;34m.\u001b[0m\u001b[0mengine\u001b[0m\u001b[0;34m)\u001b[0m\u001b[0;34m\u001b[0m\u001b[0;34m\u001b[0m\u001b[0m\n\u001b[0m\u001b[1;32m    820\u001b[0m \u001b[0;34m\u001b[0m\u001b[0m\n\u001b[1;32m    821\u001b[0m     \u001b[0;32mdef\u001b[0m \u001b[0mclose\u001b[0m\u001b[0;34m(\u001b[0m\u001b[0mself\u001b[0m\u001b[0;34m)\u001b[0m\u001b[0;34m:\u001b[0m\u001b[0;34m\u001b[0m\u001b[0;34m\u001b[0m\u001b[0m\n",
      "\u001b[0;32m/opt/conda/lib/python3.9/site-packages/pandas/io/parsers.py\u001b[0m in \u001b[0;36m_make_engine\u001b[0;34m(self, engine)\u001b[0m\n\u001b[1;32m   1048\u001b[0m             )\n\u001b[1;32m   1049\u001b[0m         \u001b[0;31m# error: Too many arguments for \"ParserBase\"\u001b[0m\u001b[0;34m\u001b[0m\u001b[0;34m\u001b[0m\u001b[0;34m\u001b[0m\u001b[0m\n\u001b[0;32m-> 1050\u001b[0;31m         \u001b[0;32mreturn\u001b[0m \u001b[0mmapping\u001b[0m\u001b[0;34m[\u001b[0m\u001b[0mengine\u001b[0m\u001b[0;34m]\u001b[0m\u001b[0;34m(\u001b[0m\u001b[0mself\u001b[0m\u001b[0;34m.\u001b[0m\u001b[0mf\u001b[0m\u001b[0;34m,\u001b[0m \u001b[0;34m**\u001b[0m\u001b[0mself\u001b[0m\u001b[0;34m.\u001b[0m\u001b[0moptions\u001b[0m\u001b[0;34m)\u001b[0m  \u001b[0;31m# type: ignore[call-arg]\u001b[0m\u001b[0;34m\u001b[0m\u001b[0;34m\u001b[0m\u001b[0m\n\u001b[0m\u001b[1;32m   1051\u001b[0m \u001b[0;34m\u001b[0m\u001b[0m\n\u001b[1;32m   1052\u001b[0m     \u001b[0;32mdef\u001b[0m \u001b[0m_failover_to_python\u001b[0m\u001b[0;34m(\u001b[0m\u001b[0mself\u001b[0m\u001b[0;34m)\u001b[0m\u001b[0;34m:\u001b[0m\u001b[0;34m\u001b[0m\u001b[0;34m\u001b[0m\u001b[0m\n",
      "\u001b[0;32m/opt/conda/lib/python3.9/site-packages/pandas/io/parsers.py\u001b[0m in \u001b[0;36m__init__\u001b[0;34m(self, src, **kwds)\u001b[0m\n\u001b[1;32m   1865\u001b[0m \u001b[0;34m\u001b[0m\u001b[0m\n\u001b[1;32m   1866\u001b[0m         \u001b[0;31m# open handles\u001b[0m\u001b[0;34m\u001b[0m\u001b[0;34m\u001b[0m\u001b[0;34m\u001b[0m\u001b[0m\n\u001b[0;32m-> 1867\u001b[0;31m         \u001b[0mself\u001b[0m\u001b[0;34m.\u001b[0m\u001b[0m_open_handles\u001b[0m\u001b[0;34m(\u001b[0m\u001b[0msrc\u001b[0m\u001b[0;34m,\u001b[0m \u001b[0mkwds\u001b[0m\u001b[0;34m)\u001b[0m\u001b[0;34m\u001b[0m\u001b[0;34m\u001b[0m\u001b[0m\n\u001b[0m\u001b[1;32m   1868\u001b[0m         \u001b[0;32massert\u001b[0m \u001b[0mself\u001b[0m\u001b[0;34m.\u001b[0m\u001b[0mhandles\u001b[0m \u001b[0;32mis\u001b[0m \u001b[0;32mnot\u001b[0m \u001b[0;32mNone\u001b[0m\u001b[0;34m\u001b[0m\u001b[0;34m\u001b[0m\u001b[0m\n\u001b[1;32m   1869\u001b[0m         \u001b[0;32mfor\u001b[0m \u001b[0mkey\u001b[0m \u001b[0;32min\u001b[0m \u001b[0;34m(\u001b[0m\u001b[0;34m\"storage_options\"\u001b[0m\u001b[0;34m,\u001b[0m \u001b[0;34m\"encoding\"\u001b[0m\u001b[0;34m,\u001b[0m \u001b[0;34m\"memory_map\"\u001b[0m\u001b[0;34m,\u001b[0m \u001b[0;34m\"compression\"\u001b[0m\u001b[0;34m)\u001b[0m\u001b[0;34m:\u001b[0m\u001b[0;34m\u001b[0m\u001b[0;34m\u001b[0m\u001b[0m\n",
      "\u001b[0;32m/opt/conda/lib/python3.9/site-packages/pandas/io/parsers.py\u001b[0m in \u001b[0;36m_open_handles\u001b[0;34m(self, src, kwds)\u001b[0m\n\u001b[1;32m   1360\u001b[0m         \u001b[0mLet\u001b[0m \u001b[0mthe\u001b[0m \u001b[0mreaders\u001b[0m \u001b[0mopen\u001b[0m \u001b[0mIOHanldes\u001b[0m \u001b[0mafter\u001b[0m \u001b[0mthey\u001b[0m \u001b[0mare\u001b[0m \u001b[0mdone\u001b[0m \u001b[0;32mwith\u001b[0m \u001b[0mtheir\u001b[0m \u001b[0mpotential\u001b[0m \u001b[0mraises\u001b[0m\u001b[0;34m.\u001b[0m\u001b[0;34m\u001b[0m\u001b[0;34m\u001b[0m\u001b[0m\n\u001b[1;32m   1361\u001b[0m         \"\"\"\n\u001b[0;32m-> 1362\u001b[0;31m         self.handles = get_handle(\n\u001b[0m\u001b[1;32m   1363\u001b[0m             \u001b[0msrc\u001b[0m\u001b[0;34m,\u001b[0m\u001b[0;34m\u001b[0m\u001b[0;34m\u001b[0m\u001b[0m\n\u001b[1;32m   1364\u001b[0m             \u001b[0;34m\"r\"\u001b[0m\u001b[0;34m,\u001b[0m\u001b[0;34m\u001b[0m\u001b[0;34m\u001b[0m\u001b[0m\n",
      "\u001b[0;32m/opt/conda/lib/python3.9/site-packages/pandas/io/common.py\u001b[0m in \u001b[0;36mget_handle\u001b[0;34m(path_or_buf, mode, encoding, compression, memory_map, is_text, errors, storage_options)\u001b[0m\n\u001b[1;32m    640\u001b[0m                 \u001b[0merrors\u001b[0m \u001b[0;34m=\u001b[0m \u001b[0;34m\"replace\"\u001b[0m\u001b[0;34m\u001b[0m\u001b[0;34m\u001b[0m\u001b[0m\n\u001b[1;32m    641\u001b[0m             \u001b[0;31m# Encoding\u001b[0m\u001b[0;34m\u001b[0m\u001b[0;34m\u001b[0m\u001b[0;34m\u001b[0m\u001b[0m\n\u001b[0;32m--> 642\u001b[0;31m             handle = open(\n\u001b[0m\u001b[1;32m    643\u001b[0m                 \u001b[0mhandle\u001b[0m\u001b[0;34m,\u001b[0m\u001b[0;34m\u001b[0m\u001b[0;34m\u001b[0m\u001b[0m\n\u001b[1;32m    644\u001b[0m                 \u001b[0mioargs\u001b[0m\u001b[0;34m.\u001b[0m\u001b[0mmode\u001b[0m\u001b[0;34m,\u001b[0m\u001b[0;34m\u001b[0m\u001b[0;34m\u001b[0m\u001b[0m\n",
      "\u001b[0;31mFileNotFoundError\u001b[0m: [Errno 2] No such file or directory: 'ab_project_marketing_events_us.csv'"
     ]
    }
   ],
   "source": [
    "## cargue de los datasets\n",
    "\n",
    "marketing = pd.read_csv(\"ab_project_marketing_events_us.csv\")\n",
    "participants = pd.read_csv(\"final_ab_participants_upd_us.csv\")\n",
    "inscriptions = pd.read_csv(\"final_ab_new_users_upd_us.csv\")\n",
    "events = pd.read_csv(\"final_ab_events_upd_us.csv\")"
   ]
  },
  {
   "cell_type": "markdown",
   "id": "0155ef4e",
   "metadata": {},
   "source": [
    "Revisar cada dataset para conocer la información con la que trabajaremos y este correcta"
   ]
  },
  {
   "cell_type": "markdown",
   "id": "336ed065",
   "metadata": {},
   "source": [
    "**Calendario de eventos de marketing para 2020**"
   ]
  },
  {
   "cell_type": "code",
   "execution_count": null,
   "id": "cd3d603b",
   "metadata": {},
   "outputs": [],
   "source": [
    "#Revisar información mktn\n",
    "marketing.info()"
   ]
  },
  {
   "cell_type": "code",
   "execution_count": null,
   "id": "8d333074",
   "metadata": {},
   "outputs": [],
   "source": [
    "##Verificar valores ausentes\n",
    "marketing.isna().sum()"
   ]
  },
  {
   "cell_type": "code",
   "execution_count": null,
   "id": "63f044f7",
   "metadata": {},
   "outputs": [],
   "source": [
    "##Verificar valores duplicados\n",
    "marketing.duplicated().sum()"
   ]
  },
  {
   "cell_type": "markdown",
   "id": "8dfe8a7a",
   "metadata": {},
   "source": [
    "A lo largo de año se realizaron 14 campañas de marketing, no hay valores ausentes, ni duplicados en la data.\n",
    "El tipo de objetos para las columnas `start_dt` y `finish_dt`esta en objetc, es necesario cambiarlo a fecha"
   ]
  },
  {
   "cell_type": "code",
   "execution_count": null,
   "id": "25733ed8",
   "metadata": {},
   "outputs": [],
   "source": [
    "##Corregir tipo de datos\n",
    "marketing['start_dt'] = pd.to_datetime(marketing['start_dt'], format='%Y-%m-%d')\n",
    "marketing['finish_dt'] = pd.to_datetime(marketing['finish_dt'], format='%Y-%m-%d')"
   ]
  },
  {
   "cell_type": "code",
   "execution_count": null,
   "id": "13577a60",
   "metadata": {},
   "outputs": [],
   "source": [
    "marketing.info()"
   ]
  },
  {
   "cell_type": "code",
   "execution_count": null,
   "id": "22045cc6",
   "metadata": {},
   "outputs": [],
   "source": [
    "##Ordenar los datos de menor a mayor con respecto a la fecha de inicio\n",
    "marketing.sort_values('start_dt')"
   ]
  },
  {
   "cell_type": "markdown",
   "id": "f0d3b575",
   "metadata": {},
   "source": [
    "Con respecto a las campañas de Marketing, la campaña Christmas&New Year Promo, podría estar influyendo en la prueba, en la parte final, es decir en los últimos 6 dias que dura el experimiento de 24 días, además esa campaña afecta la unión europea foco de estudio."
   ]
  },
  {
   "cell_type": "markdown",
   "id": "190b32b9",
   "metadata": {},
   "source": [
    "**Eventos de los nuevos usuarios en el período comprendido entre el 7 de diciembre de 2020 y el 1 de enero de 2021**"
   ]
  },
  {
   "cell_type": "code",
   "execution_count": null,
   "id": "4b6d8881",
   "metadata": {},
   "outputs": [],
   "source": [
    "events.info()"
   ]
  },
  {
   "cell_type": "code",
   "execution_count": null,
   "id": "e76bf2cf",
   "metadata": {},
   "outputs": [],
   "source": [
    "#Revisar valores ausentes\n",
    "events.isna().sum()"
   ]
  },
  {
   "cell_type": "code",
   "execution_count": null,
   "id": "cb9172f5",
   "metadata": {},
   "outputs": [],
   "source": [
    "#Revisar valores duplicados\n",
    "events.duplicated().sum()"
   ]
  },
  {
   "cell_type": "code",
   "execution_count": null,
   "id": "830aa882",
   "metadata": {},
   "outputs": [],
   "source": [
    "#Revisar valores unicos\n",
    "events['event_name'].unique()"
   ]
  },
  {
   "cell_type": "code",
   "execution_count": null,
   "id": "b969c027",
   "metadata": {},
   "outputs": [],
   "source": [
    "events[events['event_name'] == 'login' ].head()"
   ]
  },
  {
   "cell_type": "markdown",
   "id": "e9c95fe1",
   "metadata": {},
   "source": [
    "<div class=\"alert alert-block alert-success\">\n",
    "    <b>Comentarios del Revisor</b> <a class=\"tocSkip\"></a><br>\n",
    "Correcto, info(), head()  son herramientas esceneciales que nos ayudaran a hacer un análisis exploratorio inicial. Opcionalmente podrías siempre incluir describe() para tener mejor idea de los valores que toman tus varibales. POr otra parte, buen trabajo por convertir los tipos de datos de fecha al formato adecuado. Continúa con el buen trabajo! </div>"
   ]
  },
  {
   "cell_type": "code",
   "execution_count": null,
   "id": "891d9463",
   "metadata": {},
   "outputs": [],
   "source": [
    "missing_details = events[events['event_name'] == 'purchase']['details'].isna().any()\n",
    "missing_details"
   ]
  },
  {
   "cell_type": "markdown",
   "id": "a3fb6834",
   "metadata": {},
   "source": [
    "No se tienes valores duplicados y con respecto a los valores ausentes que aparecen en la columna details, hacen referencia a las tareas de 'product_cart', 'product_page', 'login' en las cuales no se realiza ningún pago es por este motivo el valor ausente, verificamos y con respecto a purchase no hay ningún valor ausente"
   ]
  },
  {
   "cell_type": "code",
   "execution_count": null,
   "id": "8895ff36",
   "metadata": {},
   "outputs": [],
   "source": [
    "events[\"event_name\"].value_counts()"
   ]
  },
  {
   "cell_type": "markdown",
   "id": "04e1b077",
   "metadata": {},
   "source": [
    "**Datos participantes de la prueba**"
   ]
  },
  {
   "cell_type": "code",
   "execution_count": null,
   "id": "3a0568b3",
   "metadata": {},
   "outputs": [],
   "source": [
    "#Revisar dataset\n",
    "participants.head()"
   ]
  },
  {
   "cell_type": "code",
   "execution_count": null,
   "id": "ada90f01",
   "metadata": {},
   "outputs": [],
   "source": [
    "# Verificar que esten los dos grupos A y B\n",
    "participants['group'].unique()"
   ]
  },
  {
   "cell_type": "code",
   "execution_count": null,
   "id": "5b53fb6b",
   "metadata": {},
   "outputs": [],
   "source": [
    "## Verificar duplicados de usuarios\n",
    "group_a = participants.query('group == \"A\"')\n",
    "group_b = participants.query('group == \"B\"')\n",
    "\n",
    "match = participants[\"user_id\"].isin(group_a[\"user_id\"]) & participants[\"user_id\"].isin(group_b[\"user_id\"])\n",
    "\n",
    "duplicates = participants[match]\n",
    "\n",
    "duplicates"
   ]
  },
  {
   "cell_type": "markdown",
   "id": "e97d16ea",
   "metadata": {},
   "source": [
    "<div class=\"alert alert-block alert-success\">\n",
    "    <b>Comentarios del Revisor</b> <a class=\"tocSkip\"></a><br>\n",
    "Correcto se dividen los grupos de participantes y se busca que sean independientes al eliminar duplicados. </div>"
   ]
  },
  {
   "cell_type": "code",
   "execution_count": null,
   "id": "7d10382f",
   "metadata": {},
   "outputs": [],
   "source": [
    "#Filtro verificar usuario duplicado\n",
    "participants[participants['user_id'] == 'FE2AF0E94DBD470E']"
   ]
  },
  {
   "cell_type": "markdown",
   "id": "dacb6ab6",
   "metadata": {},
   "source": [
    "Encontramos 882 valores duplicados con respecto a los usuarios, estos usuarios estan dentro de la prueba recommender_system_test e interface_eu_test, para este caso y como usaremos una prueba Z y los resultados pueden variar, eliminaremos los valores duplicados y trabajaremos solo con los usuarios que entraron directamente a la pueba recommender_system_test."
   ]
  },
  {
   "cell_type": "code",
   "execution_count": null,
   "id": "9b0f8ec5",
   "metadata": {},
   "outputs": [],
   "source": [
    "#Eliminar valores de usuario duplicados\n",
    "filtered_participants = participants[~match]"
   ]
  },
  {
   "cell_type": "code",
   "execution_count": null,
   "id": "a6daabb8",
   "metadata": {},
   "outputs": [],
   "source": [
    "filtered_participants.head()"
   ]
  },
  {
   "cell_type": "code",
   "execution_count": null,
   "id": "ef6b55a7",
   "metadata": {},
   "outputs": [],
   "source": [
    "# Verificar que no tengamos otros tipos de prueba\n",
    "filtered_participants['ab_test'].unique()"
   ]
  },
  {
   "cell_type": "markdown",
   "id": "21577a07",
   "metadata": {},
   "source": [
    "Observamos que tenemos otro tipo de prueba interface_eu_test, asi que filtraremos los datos solo para que no aparezca la de nuestro objeto de interes recommender_system_test"
   ]
  },
  {
   "cell_type": "code",
   "execution_count": null,
   "id": "e0e94b53",
   "metadata": {},
   "outputs": [],
   "source": [
    "participants_test = filtered_participants.query('ab_test == \"recommender_system_test\"').reset_index(drop=True)"
   ]
  },
  {
   "cell_type": "code",
   "execution_count": null,
   "id": "6f43820a",
   "metadata": {},
   "outputs": [],
   "source": [
    "#Verificar que los datos esten correctos\n",
    "participants_test['ab_test'].unique()"
   ]
  },
  {
   "cell_type": "code",
   "execution_count": null,
   "id": "86769d38",
   "metadata": {},
   "outputs": [],
   "source": [
    "participants_test.info()"
   ]
  },
  {
   "cell_type": "code",
   "execution_count": null,
   "id": "eda000f6",
   "metadata": {},
   "outputs": [],
   "source": [
    "#Verificar valores ausentes\n",
    "participants_test.isna().sum()"
   ]
  },
  {
   "cell_type": "code",
   "execution_count": null,
   "id": "c062d524",
   "metadata": {},
   "outputs": [],
   "source": [
    "#Verificar valores duplicados\n",
    "participants_test.duplicated().sum()"
   ]
  },
  {
   "cell_type": "markdown",
   "id": "f3b65dc8",
   "metadata": {},
   "source": [
    "Contamos con 3234 datos, no se presentan valores ausentes, ni duplicados."
   ]
  },
  {
   "cell_type": "markdown",
   "id": "91e9128e",
   "metadata": {},
   "source": [
    "**Datos de los usuarios que se registraron en la tienda en línea desde el 7 hasta el 21 de diciembre de 2020**"
   ]
  },
  {
   "cell_type": "code",
   "execution_count": null,
   "id": "3f0e0ac7",
   "metadata": {},
   "outputs": [],
   "source": [
    "inscriptions.info()"
   ]
  },
  {
   "cell_type": "code",
   "execution_count": null,
   "id": "65ba3ecd",
   "metadata": {},
   "outputs": [],
   "source": [
    "#Verificar valores ausentes\n",
    "inscriptions.isna().sum()"
   ]
  },
  {
   "cell_type": "code",
   "execution_count": null,
   "id": "c4d5d681",
   "metadata": {},
   "outputs": [],
   "source": [
    "#Verificar valores duplicados\n",
    "inscriptions.duplicated().sum()"
   ]
  },
  {
   "cell_type": "markdown",
   "id": "53e58326",
   "metadata": {},
   "source": [
    "No se presentan valores ausentes ni duplicados.\n",
    "Se debe convertir la columna `first_date` al tipo de dato fecha, lo realizaremos más adelante."
   ]
  },
  {
   "cell_type": "markdown",
   "id": "75987be9",
   "metadata": {},
   "source": [
    "Uniremos el dataset de participantes con el de incripciones"
   ]
  },
  {
   "cell_type": "code",
   "execution_count": null,
   "id": "223efad6",
   "metadata": {},
   "outputs": [],
   "source": [
    "#Unión datasets\n",
    "participants_inscriptions = pd.merge(inscriptions, participants_test,\n",
    "    how=\"inner\",\n",
    "    on=\"user_id\"\n",
    ")"
   ]
  },
  {
   "cell_type": "code",
   "execution_count": null,
   "id": "4a4a7adf",
   "metadata": {},
   "outputs": [],
   "source": [
    "participants_inscriptions.head()"
   ]
  },
  {
   "cell_type": "markdown",
   "id": "4980475b",
   "metadata": {},
   "source": [
    "En el estudio estamos interesados en la región de la unión europea, revisemos si tenemos otras regiones presentes."
   ]
  },
  {
   "cell_type": "code",
   "execution_count": null,
   "id": "fb0aee9d",
   "metadata": {},
   "outputs": [],
   "source": [
    "#Verificar regiones en el dataset\n",
    "participants_inscriptions['region'].value_counts()"
   ]
  },
  {
   "cell_type": "markdown",
   "id": "e80d11d1",
   "metadata": {},
   "source": [
    "Tenemos N.America, APAC y CIS, lo que haremos es eliminarlas y quedarnos con solo EU."
   ]
  },
  {
   "cell_type": "code",
   "execution_count": null,
   "id": "cda2bddf",
   "metadata": {},
   "outputs": [],
   "source": [
    "#Filtro aplicado para solo los usuarios de la región EU\n",
    "participants_test_eu = participants_inscriptions.query('region == \"EU\"').reset_index(drop=True)"
   ]
  },
  {
   "cell_type": "markdown",
   "id": "e2b5be7c",
   "metadata": {},
   "source": [
    "Teniendo esta información la uniremos con la información de eventos para que nos quede la data con los usuarios que hacen parte del experimento"
   ]
  },
  {
   "cell_type": "code",
   "execution_count": null,
   "id": "be6c88fa",
   "metadata": {},
   "outputs": [],
   "source": [
    "#Unión de datasets\n",
    "test_ab = pd.merge(\n",
    "    events,\n",
    "    participants_test_eu,\n",
    "    how=\"inner\",\n",
    "    on=\"user_id\"\n",
    ")"
   ]
  },
  {
   "cell_type": "code",
   "execution_count": null,
   "id": "be5a0f4e",
   "metadata": {},
   "outputs": [],
   "source": [
    "test_ab.head()"
   ]
  },
  {
   "cell_type": "code",
   "execution_count": null,
   "id": "c92bd7c4",
   "metadata": {
    "scrolled": true
   },
   "outputs": [],
   "source": [
    "test_ab.info()"
   ]
  },
  {
   "cell_type": "markdown",
   "id": "a7ed0660",
   "metadata": {},
   "source": [
    "corregiremos los tipos de datos para `event_dt` y `first_date` a tipo  fecha"
   ]
  },
  {
   "cell_type": "code",
   "execution_count": null,
   "id": "3c6aa703",
   "metadata": {},
   "outputs": [],
   "source": [
    "#cambio tipo de dato objeto a fecha\n",
    "test_ab['first_date'] = pd.to_datetime(test_ab['first_date'])\n",
    "test_ab['event_dt'] = pd.to_datetime(test_ab['event_dt'])"
   ]
  },
  {
   "cell_type": "code",
   "execution_count": null,
   "id": "8d73036c",
   "metadata": {},
   "outputs": [],
   "source": [
    "test_ab.info()"
   ]
  },
  {
   "cell_type": "markdown",
   "id": "bfe6e1f6",
   "metadata": {},
   "source": [
    "<div class=\"alert alert-block alert-success\">\n",
    "<b>Comentario del revisor</b> <a class=“tocSkip”></a>\n",
    "¡Muy bien! 👏👏 Los cálculos de esta sección están correctos y eso es un gran logro.</div>"
   ]
  },
  {
   "cell_type": "markdown",
   "id": "65a7c071",
   "metadata": {},
   "source": [
    "<a id='analisis'></a>\n",
    "## Análisis Exploratorio de datos"
   ]
  },
  {
   "cell_type": "code",
   "execution_count": null,
   "id": "2ac02176",
   "metadata": {},
   "outputs": [],
   "source": [
    "#Usuarios unicos\n",
    "test_ab['user_id'].nunique()"
   ]
  },
  {
   "cell_type": "markdown",
   "id": "5bcdaff0",
   "metadata": {},
   "source": [
    "La cantidad de usuarios unicos que tenemos es de 3040"
   ]
  },
  {
   "cell_type": "code",
   "execution_count": null,
   "id": "019f4826",
   "metadata": {},
   "outputs": [],
   "source": [
    "#Cantidad de eventos por usuarios\n",
    "test_ab.groupby('user_id')['event_name'].count().mean().round(2)"
   ]
  },
  {
   "cell_type": "markdown",
   "id": "474418b1",
   "metadata": {},
   "source": [
    "En promedio cada usuario tiene alrededor de 6 eventos registrados"
   ]
  },
  {
   "cell_type": "code",
   "execution_count": 5,
   "id": "84ae11bb",
   "metadata": {},
   "outputs": [
    {
     "ename": "NameError",
     "evalue": "name 'test_ab' is not defined",
     "output_type": "error",
     "traceback": [
      "\u001b[0;31m---------------------------------------------------------------------------\u001b[0m",
      "\u001b[0;31mNameError\u001b[0m                                 Traceback (most recent call last)",
      "\u001b[0;32m/tmp/ipykernel_59/1929111420.py\u001b[0m in \u001b[0;36m<module>\u001b[0;34m\u001b[0m\n\u001b[1;32m      1\u001b[0m \u001b[0;31m#Econtrar valor mínimo y máximo de fechas\u001b[0m\u001b[0;34m\u001b[0m\u001b[0;34m\u001b[0m\u001b[0;34m\u001b[0m\u001b[0m\n\u001b[1;32m      2\u001b[0m \u001b[0;34m\u001b[0m\u001b[0m\n\u001b[0;32m----> 3\u001b[0;31m \u001b[0mprint\u001b[0m\u001b[0;34m(\u001b[0m\u001b[0;34mf'Valor Mínimo:'\u001b[0m\u001b[0;34m,\u001b[0m \u001b[0mtest_ab\u001b[0m\u001b[0;34m[\u001b[0m\u001b[0;34m'first_date'\u001b[0m\u001b[0;34m]\u001b[0m\u001b[0;34m.\u001b[0m\u001b[0mmin\u001b[0m\u001b[0;34m(\u001b[0m\u001b[0;34m)\u001b[0m\u001b[0;34m)\u001b[0m\u001b[0;34m\u001b[0m\u001b[0;34m\u001b[0m\u001b[0m\n\u001b[0m\u001b[1;32m      4\u001b[0m \u001b[0;34m\u001b[0m\u001b[0m\n\u001b[1;32m      5\u001b[0m \u001b[0mprint\u001b[0m\u001b[0;34m(\u001b[0m\u001b[0;34mf'Valor Máximo:'\u001b[0m\u001b[0;34m,\u001b[0m \u001b[0mtest_ab\u001b[0m\u001b[0;34m[\u001b[0m\u001b[0;34m'first_date'\u001b[0m\u001b[0;34m]\u001b[0m\u001b[0;34m.\u001b[0m\u001b[0mmax\u001b[0m\u001b[0;34m(\u001b[0m\u001b[0;34m)\u001b[0m\u001b[0;34m)\u001b[0m\u001b[0;34m\u001b[0m\u001b[0;34m\u001b[0m\u001b[0m\n",
      "\u001b[0;31mNameError\u001b[0m: name 'test_ab' is not defined"
     ]
    }
   ],
   "source": [
    "#Econtrar valor mínimo y máximo de fechas\n",
    "\n",
    "print(f'Valor Mínimo:', test_ab['first_date'].min())\n",
    "\n",
    "print(f'Valor Máximo:', test_ab['first_date'].max())"
   ]
  },
  {
   "cell_type": "markdown",
   "id": "f76e9535",
   "metadata": {},
   "source": [
    "Vemos que la fecha de incricipción esta dentro del rango del estudio"
   ]
  },
  {
   "cell_type": "code",
   "execution_count": null,
   "id": "4bd5d828",
   "metadata": {},
   "outputs": [],
   "source": [
    "#Econtrar valor mínimo y máximo de fechas\n",
    "\n",
    "print(f'Valor Mínimo:', test_ab['event_dt'].min())\n",
    "\n",
    "print(f'Valor Máximo:', test_ab['event_dt'].max())"
   ]
  },
  {
   "cell_type": "markdown",
   "id": "dd9ac982",
   "metadata": {},
   "source": [
    "Con respecto a los eventos que cada usuario realizo estan entre el 7 y 30 de diciembre, no se tiene información del 31 de diciembre y 1 de enero del 2021 que duraba el estudio"
   ]
  },
  {
   "cell_type": "code",
   "execution_count": null,
   "id": "f3cb1c71",
   "metadata": {},
   "outputs": [],
   "source": [
    "test_ab.head()"
   ]
  },
  {
   "cell_type": "code",
   "execution_count": null,
   "id": "182b3f02",
   "metadata": {},
   "outputs": [],
   "source": [
    "#Gráfico de usuarios únicos por grupo y evento\n",
    "events_by_group = test_ab.groupby(['group', 'event_name']).agg({\"user_id\": [\"count\", \"nunique\"]}).unstack(fill_value=0)\n",
    "events_by_group = events_by_group.reset_index()\n",
    "events_by_group['group'] = events_by_group['group'].astype(str)\n",
    "\n",
    "plot_data = (\n",
    "    events_by_group\n",
    "    .melt(id_vars=[('group', '', '')], value_vars=[c for c in events_by_group.columns if \"nunique\" in c])\n",
    "    .rename(columns={\"variable_2\": \"event\", ('group', '', ''): \"group\"})\n",
    ")\n",
    "\n",
    "plot_data.sort_values(by='value', inplace=True, ascending=False)\n",
    "color_map = {'246': 'gold', '247': 'coral', '248': 'steelblue'}\n",
    "\n",
    "fig = px.bar(plot_data,\n",
    "             x='event', y='value', color=\"group\",\n",
    "             labels={'event': 'Tipo de evento', 'value': 'Frecuencia'},\n",
    "             title='Usuarios únicos por grupo y evento',\n",
    "             barmode='group',\n",
    "             color_discrete_map=color_map,\n",
    "             height=450, width=950\n",
    "            )\n",
    "\n",
    "fig.show()"
   ]
  },
  {
   "cell_type": "markdown",
   "id": "93f949e9",
   "metadata": {},
   "source": [
    "El número de usuarios únicos por grupo y evento es muy diferente en ambas muestras, teniendo más data la muestra A que la muestra B."
   ]
  },
  {
   "cell_type": "code",
   "execution_count": null,
   "id": "b9a2a943",
   "metadata": {},
   "outputs": [],
   "source": [
    "#Gráfico histograma registros a través del tiempo\n",
    "fig = px.histogram(test_ab, x='event_dt', nbins=15, title='Registros a través del tiempo')\n",
    "\n",
    "fig.show()"
   ]
  },
  {
   "cell_type": "markdown",
   "id": "894a618b",
   "metadata": {},
   "source": [
    "<div class=\"alert alert-block alert-success\">\n",
    "<b>Comentario del revisor</b> <a class=“tocSkip”></a>\n",
    "¡Muy bien! Buen trabajo con la generación de gráficos has generado gráficos adecuados por grupo. Destaco que has generado las etiquetas adecuadas de los ejes y personalizado los colores.</div>"
   ]
  },
  {
   "cell_type": "markdown",
   "id": "43c2e42d",
   "metadata": {},
   "source": [
    "El día con mayor cantidad de eventos registrados en la plataforma fue el 21 de diciembre, alcanzando un total de 3613 eventos. Observamos que no hay una tendencia de incremento notable con la implementación de la campaña de marketing Christmas&New Year Promo que comenzó el 25 de diciembre. De hecho, durante esos días, el uso de la plataforma fue menor, especialmente a partir del 24 de diciembre. Es interesante destacar que los días previos a la Navidad registraron un mayor volumen de ventas en comparación con los días posteriores."
   ]
  },
  {
   "cell_type": "markdown",
   "id": "1eb5baed",
   "metadata": {},
   "source": [
    "<div class=\"alert alert-block alert-warning\">\n",
    "<b>Comentario del revisor</b> <a class=“tocSkip”></a>\n",
    "En esta sección te aconsejaría realizar el cálculo porcentual de la diferente entre las dos campañas para ser más específico al describir incrementos. </div>"
   ]
  },
  {
   "cell_type": "code",
   "execution_count": null,
   "id": "1c6d25ae",
   "metadata": {},
   "outputs": [],
   "source": [
    "#Filtro para el grupo A yB\n",
    "group_a = test_ab.query(\"group == 'A'\")\n",
    "group_b = test_ab.query(\"group == 'B'\")"
   ]
  },
  {
   "cell_type": "code",
   "execution_count": null,
   "id": "50f1e6ea",
   "metadata": {},
   "outputs": [],
   "source": [
    "# Definir el rango de 14 días después de la inscripción\n",
    "start_date = test_ab['first_date'].min()\n",
    "end_date = start_date + timedelta(days=14)\n",
    "\n",
    "# Filtrar eventos que ocurrieron dentro de los 14 días\n",
    "group_a_14days = group_a[group_a['event_dt'] <= end_date]\n",
    "group_b_14days = group_b[group_b['event_dt'] <= end_date]"
   ]
  },
  {
   "cell_type": "code",
   "execution_count": null,
   "id": "22f981bf",
   "metadata": {},
   "outputs": [],
   "source": [
    "# Creación del Embudo de Conversión para el Grupo A \n",
    "funnel_a = group_a_14days.pivot_table(\n",
    "    index=\"event_name\",\n",
    "    values=\"user_id\",\n",
    "    aggfunc=\"nunique\"\n",
    ")\n",
    "\n",
    "# Cálculo de las Tasas de Conversión para el Grupo A \n",
    "funnel_a[\"proportion\"] = funnel_a[\"user_id\"] / len(group_a[\"user_id\"].unique())\n",
    "\n",
    "# Ordenamiento del Embudo por Número de Usuarios Únicos\n",
    "funnel_a = funnel_a.sort_values(by='user_id', ascending=False).reset_index()\n",
    "funnel_a"
   ]
  },
  {
   "cell_type": "code",
   "execution_count": null,
   "id": "29209fd0",
   "metadata": {},
   "outputs": [],
   "source": [
    "# Creación del Embudo de Conversión para el GrupoB \n",
    "funnel_b = group_b_14days.pivot_table(\n",
    "    index=\"event_name\",\n",
    "    values=\"user_id\",\n",
    "    aggfunc=\"nunique\"\n",
    ")\n",
    "\n",
    "# Cálculo de las Tasas de Conversión para el Grupo B\n",
    "funnel_b[\"proportion\"] = funnel_b[\"user_id\"] / len(group_b[\"user_id\"].unique())\n",
    "\n",
    "# Ordenamiento del Embudo por Número de Usuarios Únicos\n",
    "funnel_b = funnel_b.sort_values(by='user_id', ascending=False).reset_index()\n",
    "funnel_b"
   ]
  },
  {
   "cell_type": "markdown",
   "id": "30d48543",
   "metadata": {},
   "source": [
    "<div class=\"alert alert-block alert-success\">\n",
    "<b>Comentario del revisor</b> <a class=“tocSkip”></a>\n",
    "Gran manejo de la función pivot table 💪💻</div>"
   ]
  },
  {
   "cell_type": "code",
   "execution_count": null,
   "id": "68cf0b6f",
   "metadata": {},
   "outputs": [],
   "source": [
    "# Crear subgráficos con 1 fila y 2 columnas\n",
    "fig = make_subplots(rows=1, cols=2, subplot_titles=['Embudo Muestra A', 'Embudo Muestra B'])\n",
    "\n",
    "# Añadir el embudo para la muestra A\n",
    "fig.add_trace(\n",
    "    go.Funnel(\n",
    "        y=funnel_a['event_name'],\n",
    "        x=funnel_a['user_id'],\n",
    "        textposition=\"inside\",\n",
    "        textinfo=\"value+percent initial\",\n",
    "        marker=dict(color='powderblue'),\n",
    "        connector=dict(line=dict(color=\"powderblue\", width=4)),\n",
    "    ),\n",
    "    row=1, col=1\n",
    ")\n",
    "\n",
    "# Añadir el embudo para la muestra B\n",
    "fig.add_trace(\n",
    "    go.Funnel(\n",
    "        y=funnel_b['event_name'],\n",
    "        x=funnel_b['user_id'],\n",
    "        textposition=\"inside\",\n",
    "        textinfo=\"value+percent initial\",\n",
    "        marker=dict(color='mediumslateblue'),\n",
    "        connector=dict(line=dict(color=\"mediumslateblue\", width=4)),\n",
    "    ),\n",
    "    row=1, col=2\n",
    ")\n",
    "\n",
    "fig.update_layout(\n",
    "    title_text=\"Embudo de Usuarios por Evento\",\n",
    "    yaxis_title=\"Eventos\",\n",
    "    showlegend=False  \n",
    ")\n",
    "\n",
    "fig.show()\n"
   ]
  },
  {
   "cell_type": "markdown",
   "id": "93dc2380",
   "metadata": {},
   "source": [
    "Podemos observar que no se cumple el criterio de aumento del 10% en cada etapa del embudo dentro de los 14 días posteriores a la inscripción."
   ]
  },
  {
   "cell_type": "markdown",
   "id": "22562a39",
   "metadata": {},
   "source": [
    "`Muestra A`:\n",
    "\n",
    "Mayor porcentaje de usuarios que visitan la página del producto: 64% en comparación con el 57% de la muestra B. Esto podría indicar un mayor interés en el producto por parte de los usuarios de la muestra A.\n",
    "Menor porcentaje de usuarios que completan la compra: 32% en comparación con el 28% de la muestra B. A pesar del mayor interés inicial, la muestra A tiene una tasa de conversión menor.\n",
    "Caída significativa entre la página del producto y el carrito de compra: 31% de los usuarios que visitan la página del producto no agregan el producto al carrito. Esto podría indicar problemas con la experiencia de compra o con el precio del producto.\n",
    "\n",
    "`Muestra B`:\n",
    "\n",
    "Menor porcentaje de usuarios que visitan la página del producto: 57% en comparación con el 64% de la muestra A. Esto podría indicar un menor interés en el producto por parte de los usuarios de la muestra B.\n",
    "Similar porcentaje de usuarios que completan la compra: 28% en comparación con el 32% de la muestra A. La muestra B tiene una tasa de conversión similar a la muestra A, a pesar de tener un menor interés inicial.\n",
    "Caída significativa entre el login y la página del producto: 43% de los usuarios que inician sesión no visitan la página del producto. Esto podría indicar problemas con la experiencia de usuario después del inicio de sesión o con la visibilidad del producto.\n"
   ]
  },
  {
   "cell_type": "markdown",
   "id": "bd94fd12",
   "metadata": {},
   "source": [
    "<div class=\"alert alert-block alert-success\">\n",
    "<b>Comentario del revisor</b> <a class=“tocSkip”></a>\n",
    "¡Felicitaciones por incluir conclusiones intermedias en su proyecto! Esto es una práctica excelente ya que ayuda a comprender mejor los datos y a tomar decisiones informadas en la siguiente etapa del análisis. Continúa haciendo esto en futuros proyectos.</div>"
   ]
  },
  {
   "cell_type": "markdown",
   "id": "c5fc32d9",
   "metadata": {},
   "source": [
    "<a id='resultado'></a>\n",
    "## Análisis de la prueba A/B "
   ]
  },
  {
   "cell_type": "markdown",
   "id": "af7db08c",
   "metadata": {},
   "source": [
    "`H0 - Hipótesis Nula`: La proporción de eventos en el grupo A es igual a la proporción de eventos en el grupo B.\n",
    "\n",
    "`H1 - Hipótesis Alternativa`: La proporción de eventos en el grupo A es diferente a la proporción de eventos en el grupo B.\n",
    "\n",
    "El alpha que utilizaremos es de 0.05"
   ]
  },
  {
   "cell_type": "markdown",
   "id": "16a12903",
   "metadata": {},
   "source": [
    "<div class=\"alert alert-block alert-success\">\n",
    "<b>Comentario del revisor</b> <a class=“tocSkip”></a>\n",
    "Correcto. Se establecieron la hipótesis nula y alternativa y planteas el nivel de significancia adecuado. </div>"
   ]
  },
  {
   "cell_type": "code",
   "execution_count": null,
   "id": "267c4e84",
   "metadata": {},
   "outputs": [],
   "source": [
    "# Cálculo del Número Total de Usuarios Únicos por Grupo\n",
    "data_total = test_ab.groupby('group')['user_id'].nunique().reset_index()\n",
    "data_total"
   ]
  },
  {
   "cell_type": "code",
   "execution_count": null,
   "id": "44081987",
   "metadata": {},
   "outputs": [],
   "source": [
    "# Creación de una Tabla de Usuarios Únicos por Evento y Grupo\n",
    "data_unique = test_ab.pivot_table(\n",
    "    index='event_name', \n",
    "    values='user_id', \n",
    "    columns='group', aggfunc=lambda x: x.nunique()).sort_values(by='A', ascending=False).reset_index()\n",
    "data_unique"
   ]
  },
  {
   "cell_type": "code",
   "execution_count": null,
   "id": "f7cd1f53",
   "metadata": {},
   "outputs": [],
   "source": [
    "def hypothesis(group1, group2, event_name, alpha=0.05):\n",
    "    \n",
    "    # Filtrado por evento, grupo y usuarios únicos por evento\n",
    "    successes1 = data_unique[data_unique['event_name'] == event_name][group1].iloc[0]\n",
    "    successes2 = data_unique[data_unique['event_name'] == event_name][group2].iloc[0]\n",
    "    \n",
    "    # Usuarios totales únicos\n",
    "    trials1 = data_total[data_total['group'] == group1]['user_id'].iloc[0]\n",
    "    trials2 = data_total[data_total['group'] == group2]['user_id'].iloc[0]\n",
    "    \n",
    "    # Proporción grupo 1\n",
    "    p1 = successes1 / trials1\n",
    "    \n",
    "    # Proporción grupo 2\n",
    "    p2 = successes2 / trials2\n",
    "\n",
    "    # Proporción grupos combinados\n",
    "    p_combined = (successes1 + successes2) / (trials1 + trials2)\n",
    "    difference = p1 - p2   \n",
    "    z_value = difference / mth.sqrt(p_combined * (1 - p_combined) * (1/trials1 + 1/trials2))\n",
    "    distr = stats.norm(0, 1) \n",
    "    p_value = (1 - distr.cdf(abs(z_value))) * 2\n",
    "\n",
    "    print('p-value: ', p_value)\n",
    "\n",
    "    if p_value < alpha:\n",
    "        print(\"Rechazamos la Hipótesis Nula hay evidencia estadística significativa para afirmar que la proporción de eventos en el grupo A es diferente de la proporción de eventos en el grupo B para el evento\", event_name, )\n",
    "    else:\n",
    "        print(\"No hay evidencia suficiente para afirmar que la proporción de eventos en el grupo A es diferente de la proporción de eventos en el grupo B para el evento \",event_name)\n"
   ]
  },
  {
   "cell_type": "markdown",
   "id": "0901a356",
   "metadata": {},
   "source": [
    "<div class=\"alert alert-block alert-success\">\n",
    "<b>Comentario del revisor</b> <a class=“tocSkip”></a>\n",
    "Buen trabajo por plantear una función para hacer más reutilizable la función. Además usar el valor Z es lo más adecuado para este tipo de pruebas AB</div>"
   ]
  },
  {
   "cell_type": "code",
   "execution_count": null,
   "id": "f9b2279c",
   "metadata": {},
   "outputs": [],
   "source": [
    "#Pueba de hipotesis\n",
    "\n",
    "for i in data_unique['event_name'].unique():\n",
    "    hypothesis('A', 'B', i, alpha=0.05)\n",
    "    print('\\n')"
   ]
  },
  {
   "cell_type": "markdown",
   "id": "7f3b9bc5",
   "metadata": {},
   "source": [
    "En Conclusión, según los p-values obtenidos, hay evidencia estadística significativa para afirmar que la proporción de eventos es diferente entre los grupos para el evento 'product_page', pero no hay suficiente evidencia para afirmar diferencias significativas en los otros eventos."
   ]
  },
  {
   "cell_type": "markdown",
   "id": "704ae0d1",
   "metadata": {},
   "source": [
    "<a id='conclusiones'></a>\n",
    "## Conclusiones "
   ]
  },
  {
   "cell_type": "markdown",
   "id": "3fa90f63",
   "metadata": {},
   "source": [
    "Se considera que el tiempo de la prueba fue muy corto para determinar resultados, no se evidencia que la campaña de marketing que se lanzo en los días finales del año haya tenido relevancia, antes las ventas disminuyeron despues de la fiesta de navidad y los datos recolectados estuvieron hasta el 30 de diciembre del 2020 no hasta el 1 de enero de 2021 que finalizaba la prueba.\n",
    "\n",
    "El número previsto de partipante fue menor de los 6000 que se tenian previstos, el número de usuarios únicos fue de 3040.\n",
    "\n",
    "el resultado esperado dentro de los 14 días posteriores a la inscripción, se esperaba un aumento del 10% pero se puede ver que comparado con el grupo A hubo una diminución.\n",
    "\n",
    "\n",
    "Ambas muestras tienen una tasa de conversión relativamente baja, la muestra A tiene un mayor interés inicial en el producto, pero una menor tasa de conversión. Se debería analizar en detalle el proceso de compra para identificar los puntos de fricción que están impidiendo que los usuarios completen la compra.\n",
    "La muestra B tiene un menor interés inicial en el producto, pero una tasa de conversión similar a la muestra A. Se debería analizar cómo se puede aumentar el interés en el producto y la visibilidad del mismo en el sitio web.\n",
    "\n",
    "Para los eventos login, purchase, y product_cart, no hay evidencia suficiente para afirmar diferencias significativas en las proporciones de eventos entre los grupos A y B, la prueba indica evidencia estadística significativa para afirmar que la proporción de eventos en el grupo A es diferente del grupo B para el evento product_page. Esto puede indicar un impacto significativo del nuevo sistema de recomendaciones en la visualización de páginas de productos.\n",
    "\n",
    "Se puede concluir que la prueba no cumplió con el objetivo planteado inicialmente de implementar un sistema de recomendaciones mejorado."
   ]
  },
  {
   "cell_type": "markdown",
   "id": "21b00baf",
   "metadata": {},
   "source": [
    "<div class=\"alert alert-block alert-success\">    \n",
    "<b>Comentario del revisor</b> <a class=\"tocSkip\"></a>\n",
    "\n",
    "¡Qué gran trabajo has hecho!  &#128077;  <b>Podemos aprobar el proyecto.</b><br>\n",
    "\n",
    "<br>Quiero felicitarte por un trabajo excepcional y por la calidad de tu análisis.<br>\n",
    "- Tienes un gran manejo del lenguaje python y usas la visualización de forma efectiva. Además aplicanste las pruebs AB de forma adecuado. Si te gustaría profundizar más en el tema te aconsejo repetir tus pruebas utilizando pruebas de permutación para comprobar las hipótesis.     \n",
    "\n",
    "Te animo a que sigas aprendiendo y desafiando tu potencial en los próximos sprints. Estoy seguro de que tus habilidades y conocimientos serán valiosos en el futuro y te permitirán abordar problemas cada vez más complejos con éxito.\n",
    "</div>"
   ]
  }
 ],
 "metadata": {
  "kernelspec": {
   "display_name": "Python 3 (ipykernel)",
   "language": "python",
   "name": "python3"
  },
  "language_info": {
   "codemirror_mode": {
    "name": "ipython",
    "version": 3
   },
   "file_extension": ".py",
   "mimetype": "text/x-python",
   "name": "python",
   "nbconvert_exporter": "python",
   "pygments_lexer": "ipython3",
   "version": "3.9.5"
  },
  "toc": {
   "base_numbering": 1,
   "nav_menu": {},
   "number_sections": true,
   "sideBar": true,
   "skip_h1_title": true,
   "title_cell": "Table of Contents",
   "title_sidebar": "Contents",
   "toc_cell": false,
   "toc_position": {},
   "toc_section_display": true,
   "toc_window_display": false
  }
 },
 "nbformat": 4,
 "nbformat_minor": 5
}
